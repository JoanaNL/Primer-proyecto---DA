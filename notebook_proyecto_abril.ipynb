{
 "cells": [
  {
   "cell_type": "code",
   "execution_count": 1,
   "metadata": {},
   "outputs": [],
   "source": [
    "import pandas as pd\n",
    "import numpy as np\n",
    "import os\n",
    "import sys\n",
    "import matplotlib.pyplot as plt\n",
    "import shutil\n",
    "\n",
    "\n",
    "\n",
    "\n",
    "\n"
   ]
  },
  {
   "cell_type": "code",
   "execution_count": 6,
   "metadata": {},
   "outputs": [
    {
     "name": "stdout",
     "output_type": "stream",
     "text": [
      " El volumen de la unidad C no tiene etiqueta.\n",
      " El n�mero de serie del volumen es: F4A0-204C\n",
      "\n",
      " Directorio de c:\\Users\\Haine\\Proyecto 1 abril\\Primer-proyecto---DA\\Scripts\n",
      "\n",
      "02/04/2025  20:18    <DIR>          .\n",
      "02/04/2025  20:18    <DIR>          ..\n",
      "01/04/2025  20:26             4.518 environment.yml\n",
      "02/04/2025  19:09                 0 extracci�n.ipynb\n",
      "02/04/2025  19:12                 0 main.py\n",
      "02/04/2025  19:09                 0 notebook_proyecto_abril.ipynb\n",
      "02/04/2025  19:12                 0 transformaci�n.py\n",
      "               5 archivos          4.518 bytes\n",
      "               2 dirs  629.284.102.144 bytes libres\n"
     ]
    }
   ],
   "source": [
    "ls ."
   ]
  }
 ],
 "metadata": {
  "kernelspec": {
   "display_name": "Primer-proyecto---DA",
   "language": "python",
   "name": "python3"
  },
  "language_info": {
   "codemirror_mode": {
    "name": "ipython",
    "version": 3
   },
   "file_extension": ".py",
   "mimetype": "text/x-python",
   "name": "python",
   "nbconvert_exporter": "python",
   "pygments_lexer": "ipython3",
   "version": "3.9.21"
  }
 },
 "nbformat": 4,
 "nbformat_minor": 2
}
