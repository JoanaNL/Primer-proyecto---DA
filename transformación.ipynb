{
 "cells": [
  {
   "cell_type": "code",
   "execution_count": 2,
   "metadata": {},
   "outputs": [],
   "source": [
    "import pandas as pd\n",
    "import numpy as np\n",
    "import matplotlib.pyplot as plt\n",
    "\n",
    "\n"
   ]
  },
  {
   "cell_type": "code",
   "execution_count": 8,
   "metadata": {},
   "outputs": [
    {
     "name": "stdout",
     "output_type": "stream",
     "text": [
      "  Comunidades y Ciudades Autónomas;General  \\\n",
      "0                Nacional;General;2024;100   \n",
      "1                Nacional;General;2023;100   \n",
      "2                Nacional;General;2022;100   \n",
      "3                Nacional;General;2021;100   \n",
      "4                Nacional;General;2020;100   \n",
      "5                Nacional;General;2019;100   \n",
      "6                Nacional;General;2018;100   \n",
      "7                Nacional;General;2017;100   \n",
      "8                Nacional;General;2016;100   \n",
      "9                Nacional;General;2015;100   \n",
      "\n",
      "   vivienda nueva y de segunda mano;Periodo;Total  \n",
      "0                                            None  \n",
      "1                                            None  \n",
      "2                                            None  \n",
      "3                                            None  \n",
      "4                                            None  \n",
      "5                                            None  \n",
      "6                                            None  \n",
      "7                                            None  \n",
      "8                                            None  \n",
      "9                                            None  \n",
      "<class 'pandas.core.frame.DataFrame'>\n",
      "RangeIndex: 816 entries, 0 to 815\n",
      "Data columns (total 2 columns):\n",
      " #   Column                                           Non-Null Count  Dtype \n",
      "---  ------                                           --------------  ----- \n",
      " 0   Comunidades y Ciudades Autónomas;General         816 non-null    object\n",
      " 1    vivienda nueva y de segunda mano;Periodo;Total  510 non-null    object\n",
      "dtypes: object(2)\n",
      "memory usage: 12.9+ KB\n"
     ]
    }
   ],
   "source": [
    "import pandas as pd\n",
    "import pandas as pd\n",
    "\n",
    "archivo = 'C:\\\\Users\\\\Haine\\\\Proyecto 1 abril\\\\Primer-proyecto---DA\\\\Dataset\\\\25174.csv'\n",
    "\n",
    "df = pd.read_csv(archivo, on_bad_lines='skip', engine='python')  # <-- esta línea crea 'df'\n",
    "print(df.head(10))  # muestra las primeras 10 filas\n",
    "df.info()           # muestra info del dataframe\n",
    "\n"
   ]
  },
  {
   "cell_type": "code",
   "execution_count": 9,
   "metadata": {},
   "outputs": [
    {
     "name": "stdout",
     "output_type": "stream",
     "text": [
      "<class 'pandas.core.frame.DataFrame'>\n",
      "RangeIndex: 816 entries, 0 to 815\n",
      "Data columns (total 2 columns):\n",
      " #   Column                                           Non-Null Count  Dtype \n",
      "---  ------                                           --------------  ----- \n",
      " 0   Comunidades y Ciudades Autónomas;General         816 non-null    object\n",
      " 1    vivienda nueva y de segunda mano;Periodo;Total  510 non-null    object\n",
      "dtypes: object(2)\n",
      "memory usage: 12.9+ KB\n"
     ]
    }
   ],
   "source": [
    "df.head(10) # muestra las primeras 10 filas del dataframe\n",
    "df.info() # información general del dataframe"
   ]
  },
  {
   "cell_type": "code",
   "execution_count": 11,
   "metadata": {},
   "outputs": [
    {
     "data": {
      "application/vnd.microsoft.datawrangler.viewer.v0+json": {
       "columns": [
        {
         "name": "index",
         "rawType": "object",
         "type": "string"
        },
        {
         "name": "Comunidades y Ciudades Autónomas\tGeneral, vivienda nueva y de segunda mano\tPeriodo\tTotal",
         "rawType": "object",
         "type": "unknown"
        }
       ],
       "conversionMethod": "pd.DataFrame",
       "ref": "c97a828c-7491-47a0-8fa2-a20c1b3efee3",
       "rows": [
        [
         "count",
         "1020"
        ],
        [
         "unique",
         "1020"
        ],
        [
         "top",
         "19 Melilla\tVivienda segunda mano\t2008\t\"\""
        ],
        [
         "freq",
         "1"
        ]
       ],
       "shape": {
        "columns": 1,
        "rows": 4
       }
      },
      "text/html": [
       "<div>\n",
       "<style scoped>\n",
       "    .dataframe tbody tr th:only-of-type {\n",
       "        vertical-align: middle;\n",
       "    }\n",
       "\n",
       "    .dataframe tbody tr th {\n",
       "        vertical-align: top;\n",
       "    }\n",
       "\n",
       "    .dataframe thead th {\n",
       "        text-align: right;\n",
       "    }\n",
       "</style>\n",
       "<table border=\"1\" class=\"dataframe\">\n",
       "  <thead>\n",
       "    <tr style=\"text-align: right;\">\n",
       "      <th></th>\n",
       "      <th>Comunidades y Ciudades Autónomas\\tGeneral, vivienda nueva y de segunda mano\\tPeriodo\\tTotal</th>\n",
       "    </tr>\n",
       "  </thead>\n",
       "  <tbody>\n",
       "    <tr>\n",
       "      <th>count</th>\n",
       "      <td>1020</td>\n",
       "    </tr>\n",
       "    <tr>\n",
       "      <th>unique</th>\n",
       "      <td>1020</td>\n",
       "    </tr>\n",
       "    <tr>\n",
       "      <th>top</th>\n",
       "      <td>19 Melilla\\tVivienda segunda mano\\t2008\\t\"\"</td>\n",
       "    </tr>\n",
       "    <tr>\n",
       "      <th>freq</th>\n",
       "      <td>1</td>\n",
       "    </tr>\n",
       "  </tbody>\n",
       "</table>\n",
       "</div>"
      ],
      "text/plain": [
       "       Comunidades y Ciudades Autónomas\\tGeneral, vivienda nueva y de segunda mano\\tPeriodo\\tTotal\n",
       "count                                                1020                                         \n",
       "unique                                               1020                                         \n",
       "top           19 Melilla\\tVivienda segunda mano\\t2008\\t\"\"                                         \n",
       "freq                                                    1                                         "
      ]
     },
     "execution_count": 11,
     "metadata": {},
     "output_type": "execute_result"
    }
   ],
   "source": [
    "df.describe()\n",
    "df.describe(include='all') # estadisticas descriptivas de todas las columnas"
   ]
  },
  {
   "cell_type": "code",
   "execution_count": 13,
   "metadata": {},
   "outputs": [],
   "source": [
    "df.shape\n",
    "df.sample(n=min(1000, len(df)))\n",
    "df = pd.read_csv('C:\\\\Users\\\\Haine\\\\Proyecto 1 abril\\\\Primer-proyecto---DA\\\\Dataset\\\\25171.csv', on_bad_lines='skip')"
   ]
  },
  {
   "cell_type": "code",
   "execution_count": 14,
   "metadata": {},
   "outputs": [],
   "source": [
    "df.shape\n",
    "df.sample(30)\n",
    "df = pd.read_csv('C:\\\\Users\\\\Haine\\\\Proyecto 1 abril\\\\Primer-proyecto---DA\\\\Dataset\\\\25173.csv', on_bad_lines='skip')"
   ]
  },
  {
   "cell_type": "code",
   "execution_count": 15,
   "metadata": {},
   "outputs": [
    {
     "data": {
      "text/plain": [
       "Comunidades y Ciudades Autónomas;General                             0\n",
       " vivienda nueva y de segunda mano;Índices y tasas;Periodo;Total    144\n",
       "dtype: int64"
      ]
     },
     "execution_count": 15,
     "metadata": {},
     "output_type": "execute_result"
    }
   ],
   "source": [
    "df.isna().sum() # cuenta los valores nulos en cada columna\n",
    "df.isnull().sum() # cuenta los valores nulos en cada columna"
   ]
  },
  {
   "cell_type": "code",
   "execution_count": null,
   "metadata": {},
   "outputs": [
    {
     "data": {
      "text/plain": [
       "Index(['Total Nacional\\tComunidades y Ciudades Autónomas\\tGeneral', ' vivienda nueva y de segunda mano\\tÍndices y tasas\\tPeriodo\\tTotal'], dtype='object')"
      ]
     },
     "execution_count": 16,
     "metadata": {},
     "output_type": "execute_result"
    }
   ],
   "source": [
    "df.columns # muestra los nombres de las columnas del dataframe"
   ]
  },
  {
   "cell_type": "code",
   "execution_count": 16,
   "metadata": {},
   "outputs": [],
   "source": [
    "df = pd.DataFrame(df) # convierte el dataframe a un dataframe de pandas\n",
    "df = df.dropna() # elimina las filas con valores nulos"
   ]
  },
  {
   "cell_type": "code",
   "execution_count": 17,
   "metadata": {},
   "outputs": [],
   "source": [
    "import pandas as pd\n",
    "df = df.dropna() # elimina las filas con valores nulos\n",
    "df = df.drop_duplicates() # elimina las filas duplicadas\n",
    "df = df.reset_index(drop=True) # reinicia el índice del dataframe\n",
    "\n",
    "\n"
   ]
  },
  {
   "cell_type": "code",
   "execution_count": 18,
   "metadata": {},
   "outputs": [],
   "source": [
    "df = df.dropna(axis=1) # elimina las columnas con valores nulos"
   ]
  },
  {
   "cell_type": "code",
   "execution_count": 19,
   "metadata": {},
   "outputs": [],
   "source": [
    "df.to_csv('C:\\\\Users\\\\Haine\\\\Proyecto 1 abril\\\\Primer-proyecto---DA\\\\Dataset\\\\25171.csv', index=False) # guarda el dataframe en un archivo csv sin el índice"
   ]
  },
  {
   "cell_type": "code",
   "execution_count": 20,
   "metadata": {},
   "outputs": [],
   "source": [
    "\n",
    "df.to_csv('C:\\\\Users\\\\Haine\\\\Proyecto 1 abril\\\\Primer-proyecto---DA\\\\Dataset\\\\25171.csv', index=False) # guarda el dataframe en un archivo csv sin el índice\n"
   ]
  },
  {
   "cell_type": "code",
   "execution_count": null,
   "metadata": {},
   "outputs": [
    {
     "ename": "NameError",
     "evalue": "name 'df' is not defined",
     "output_type": "error",
     "traceback": [
      "\u001b[1;31m---------------------------------------------------------------------------\u001b[0m",
      "\u001b[1;31mNameError\u001b[0m                                 Traceback (most recent call last)",
      "Cell \u001b[1;32mIn[4], line 1\u001b[0m\n\u001b[1;32m----> 1\u001b[0m \u001b[43mdf\u001b[49m\u001b[38;5;241m.\u001b[39mtail()\n",
      "\u001b[1;31mNameError\u001b[0m: name 'df' is not defined"
     ]
    }
   ],
   "source": []
  }
 ],
 "metadata": {
  "kernelspec": {
   "display_name": "Primer-proyecto---DA",
   "language": "python",
   "name": "python3"
  },
  "language_info": {
   "codemirror_mode": {
    "name": "ipython",
    "version": 3
   },
   "file_extension": ".py",
   "mimetype": "text/x-python",
   "name": "python",
   "nbconvert_exporter": "python",
   "pygments_lexer": "ipython3",
   "version": "3.9.21"
  }
 },
 "nbformat": 4,
 "nbformat_minor": 2
}
